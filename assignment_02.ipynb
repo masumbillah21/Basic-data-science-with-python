{
  "nbformat": 4,
  "nbformat_minor": 0,
  "metadata": {
    "colab": {
      "provenance": [],
      "authorship_tag": "ABX9TyMqabA1xAMrxVT/1djHeL/j",
      "include_colab_link": true
    },
    "kernelspec": {
      "name": "python3",
      "display_name": "Python 3"
    },
    "language_info": {
      "name": "python"
    }
  },
  "cells": [
    {
      "cell_type": "markdown",
      "metadata": {
        "id": "view-in-github",
        "colab_type": "text"
      },
      "source": [
        "<a href=\"https://colab.research.google.com/github/masumbillah21/Basic-data-science-with-python/blob/main/assignment_02.ipynb\" target=\"_parent\"><img src=\"https://colab.research.google.com/assets/colab-badge.svg\" alt=\"Open In Colab\"/></a>"
      ]
    },
    {
      "cell_type": "markdown",
      "source": [
        "Sum all the odd numbers from 0 to 100 and print it to the screen."
      ],
      "metadata": {
        "id": "_P5wqAJH1Y2t"
      }
    },
    {
      "cell_type": "code",
      "source": [
        "odd_sum = 0\n",
        "\n",
        "for n in range(1, 100):\n",
        "  if(n % 2 != 0):\n",
        "    odd_sum += n;\n",
        "\n",
        "print(odd_sum)"
      ],
      "metadata": {
        "colab": {
          "base_uri": "https://localhost:8080/"
        },
        "id": "sHJRNofk1Zt0",
        "outputId": "fcbbdc47-3f1c-4bed-b5b2-783347c1c0f8"
      },
      "execution_count": 7,
      "outputs": [
        {
          "output_type": "stream",
          "name": "stdout",
          "text": [
            "2500\n"
          ]
        }
      ]
    }
  ]
}