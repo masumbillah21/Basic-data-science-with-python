{
  "nbformat": 4,
  "nbformat_minor": 0,
  "metadata": {
    "colab": {
      "provenance": [],
      "include_colab_link": true
    },
    "kernelspec": {
      "name": "python3",
      "display_name": "Python 3"
    },
    "language_info": {
      "name": "python"
    }
  },
  "cells": [
    {
      "cell_type": "markdown",
      "metadata": {
        "id": "view-in-github",
        "colab_type": "text"
      },
      "source": [
        "<a href=\"https://colab.research.google.com/github/masumbillah21/Basic-data-science-with-python/blob/main/Basics_of_python_2.ipynb\" target=\"_parent\"><img src=\"https://colab.research.google.com/assets/colab-badge.svg\" alt=\"Open In Colab\"/></a>"
      ]
    },
    {
      "cell_type": "markdown",
      "source": [
        "# 1. For Loops\n",
        "\n",
        "### Explanation\n",
        "\n",
        "- A **for** loop in Python is used to iterate over a sequence (list, tuple, dictionary, set, or string).  \n",
        "- It repeats code for each element in the sequence.  \n",
        "- The `range()` function is often used to generate a sequence of numbers.\n"
      ],
      "metadata": {
        "id": "xa4mfPJNI9Tr"
      }
    },
    {
      "cell_type": "code",
      "source": [
        "# Example 1: Iterating over a list\n",
        "numbers = [1, 2, 3, 4, 5]\n",
        "\n",
        "print(\"Iterating over a list:\")\n",
        "for num in numbers:\n",
        "    print(num, end='\\n')\n",
        "\n",
        "# Example 2: Using range() to loop over a sequence of numbers\n",
        "print(\"\\nUsing range to print numbers from 0 to 4:\")\n",
        "for i in range(5):\n",
        "    print(i)\n",
        "\n",
        "# Example 3: Iterating over a string\n",
        "print(\"\\nIterating over characters in a string:\")\n",
        "for char in \"Hello\":\n",
        "    print(char)\n"
      ],
      "metadata": {
        "colab": {
          "base_uri": "https://localhost:8080/"
        },
        "id": "rtYezRohJd5a",
        "outputId": "e6456c7b-0c1e-4ea8-cc2f-1438876b8efd"
      },
      "execution_count": null,
      "outputs": [
        {
          "output_type": "stream",
          "name": "stdout",
          "text": [
            "Iterating over a list:\n",
            "1\n",
            "2\n",
            "3\n",
            "4\n",
            "5\n",
            "\n",
            "Using range to print numbers from 0 to 4:\n",
            "0\n",
            "1\n",
            "2\n",
            "3\n",
            "4\n",
            "\n",
            "Iterating over characters in a string:\n",
            "H\n",
            "e\n",
            "l\n",
            "l\n",
            "o\n"
          ]
        }
      ]
    },
    {
      "cell_type": "markdown",
      "source": [
        "# 2. While Loops\n",
        "\n",
        "### Explanation\n",
        "\n",
        "- A **while** loop repeats as long as a given condition remains **True**.  \n",
        "- You must ensure that the condition eventually becomes **False** to avoid an infinite loop.\n"
      ],
      "metadata": {
        "id": "r6V2Fci8JF9j"
      }
    },
    {
      "cell_type": "code",
      "execution_count": null,
      "metadata": {
        "colab": {
          "base_uri": "https://localhost:8080/"
        },
        "id": "elHpaXLrII0T",
        "outputId": "ce97290a-32d1-4cef-cd34-690b9ef86f9c"
      },
      "outputs": [
        {
          "output_type": "stream",
          "name": "stdout",
          "text": [
            "5\n",
            "4\n",
            "3\n",
            "2\n",
            "1\n",
            "Loop finished!\n"
          ]
        }
      ],
      "source": [
        "# Example: Counting down from 5 to 1\n",
        "count = 5\n",
        "while count > 0:\n",
        "    print(count)\n",
        "    count -= 1  # Decrement count by 1 each iteration\n",
        "\n",
        "print(\"Loop finished!\")\n"
      ]
    },
    {
      "cell_type": "markdown",
      "source": [
        "# 3. Break & Continue Statements\n",
        "\n",
        "### Explanation\n",
        "\n",
        "- **break**: Exits a loop immediately.  \n",
        "- **continue**: Skips the rest of the current iteration and continues with the next iteration in the loop.\n"
      ],
      "metadata": {
        "id": "VD-1jjExJH-u"
      }
    },
    {
      "cell_type": "code",
      "source": [
        "print(\"Using break:\")\n",
        "for i in range(1, 10):\n",
        "    if i == 5:\n",
        "        break  # Stop the loop when i is 5\n",
        "    print(i)\n",
        "\n",
        "print(\"\\nUsing continue:\")\n",
        "for i in range(1, 10):\n",
        "    if i == 5:\n",
        "        continue  # Skip the rest of this loop iteration when i is 5\n",
        "    print(i)\n"
      ],
      "metadata": {
        "colab": {
          "base_uri": "https://localhost:8080/"
        },
        "id": "c1HNtg1pJj03",
        "outputId": "d042d535-0243-47e7-bd9a-340563101801"
      },
      "execution_count": null,
      "outputs": [
        {
          "output_type": "stream",
          "name": "stdout",
          "text": [
            "Using break:\n",
            "1\n",
            "2\n",
            "3\n",
            "4\n",
            "\n",
            "Using continue:\n",
            "1\n",
            "2\n",
            "3\n",
            "4\n",
            "6\n",
            "7\n",
            "8\n",
            "9\n"
          ]
        }
      ]
    },
    {
      "cell_type": "markdown",
      "source": [
        "# 4. Strings\n",
        "\n",
        "### Explanation\n",
        "\n",
        "- A **string** is a sequence of characters enclosed in quotes.  \n",
        "- Common operations include:\n",
        "  - **Indexing**: Access a single character with `[index]`.  \n",
        "  - **Slicing**: Access a substring with `[start:end]`.  \n",
        "  - **Concatenation**: Combine strings with `+`.  \n",
        "  - Built-in string methods, such as:\n",
        "    - `.upper()` and `.lower()` for changing case.  \n",
        "    - `.replace(old, new)` for replacing a substring.  \n",
        "    - `.split(separator)` for splitting a string into a list.\n"
      ],
      "metadata": {
        "id": "jwDOxGReJKAg"
      }
    },
    {
      "cell_type": "code",
      "source": [
        "my_string = \"Hello, World!\"\n",
        "\n",
        "# Indexing\n",
        "print(\"First character:\", my_string[0])\n",
        "\n",
        "# Slicing (from index 0 to 4, exclusive of 5)\n",
        "print(\"Substring [0:5]:\", my_string[0:5])\n",
        "\n",
        "# String methods\n",
        "print(\"Uppercase:\", my_string.upper())\n",
        "print(\"Lowercase:\", my_string.lower())\n",
        "print(\"Replace 'World' with 'Python':\", my_string.replace(\"World\", \"Python\"))\n",
        "\n",
        "# Concatenation\n",
        "string_a = \"Hello\"\n",
        "string_b = \"Python\"\n",
        "concatenated = string_a + \" \" + string_b\n",
        "print(\"Concatenated:\", concatenated)\n",
        "\n",
        "# Splitting a string\n",
        "split_example = \"apple,banana,cherry\"\n",
        "split_list = split_example.split(\",\")\n",
        "print(\"Splitted list:\", split_list)\n"
      ],
      "metadata": {
        "colab": {
          "base_uri": "https://localhost:8080/"
        },
        "id": "AvuoE3enI71w",
        "outputId": "66f7b663-1329-4568-943b-d380f3db49a8"
      },
      "execution_count": null,
      "outputs": [
        {
          "output_type": "stream",
          "name": "stdout",
          "text": [
            "First character: H\n",
            "Substring [0:5]: Hello\n",
            "Uppercase: HELLO, WORLD!\n",
            "Lowercase: hello, world!\n",
            "Replace 'World' with 'Python': Hello, Python!\n",
            "Concatenated: Hello Python\n",
            "Splitted list: ['apple', 'banana', 'cherry']\n"
          ]
        }
      ]
    },
    {
      "cell_type": "code",
      "source": [
        "print(\"Original\", my_string)\n",
        "my_string = my_string.replace(\"World\", \"Python\")\n",
        "print(\"Changed\", my_string)"
      ],
      "metadata": {
        "colab": {
          "base_uri": "https://localhost:8080/"
        },
        "id": "KnwwhaHnbjgp",
        "outputId": "ea658ad3-a03e-4cb5-c44f-a2634c4835ba"
      },
      "execution_count": null,
      "outputs": [
        {
          "output_type": "stream",
          "name": "stdout",
          "text": [
            "Original Hello, World!\n",
            "Changed Hello, Python!\n"
          ]
        }
      ]
    },
    {
      "cell_type": "markdown",
      "source": [
        "# 5. Arithmetic Operations\n",
        "\n",
        "### Explanation\n",
        "\n",
        "- **+** (Addition)  \n",
        "- **-** (Subtraction)  \n",
        "- **\\*** (Multiplication)  \n",
        "- **/** (Division)  \n",
        "- **//** (Floor division)  \n",
        "- **%** (Modulo)  \n",
        "- **\\*\\*** (Exponentiation)\n"
      ],
      "metadata": {
        "id": "SkTbqedQJN_b"
      }
    },
    {
      "cell_type": "code",
      "source": [
        "a = 10\n",
        "b = 3\n",
        "\n",
        "print(\"Addition (a + b):\", a + b)           # 13\n",
        "print(\"Subtraction (a - b):\", a - b)       # 7\n",
        "print(\"Multiplication (a * b):\", a * b)    # 30\n",
        "print(\"Division (a / b):\", a / b)          # 3.3333...\n",
        "print(\"Floor Division (a // b):\", a // b)  # 3\n",
        "print(\"Modulo (a % b):\", a % b)            # 1\n",
        "print(\"Exponent (a ** b):\", a ** b)        # 1000\n"
      ],
      "metadata": {
        "colab": {
          "base_uri": "https://localhost:8080/"
        },
        "id": "apOH48nxJOxa",
        "outputId": "9401f1fc-b4cc-45d8-d4c4-ad142f778154"
      },
      "execution_count": null,
      "outputs": [
        {
          "output_type": "stream",
          "name": "stdout",
          "text": [
            "Addition (a + b): 13\n",
            "Subtraction (a - b): 7\n",
            "Multiplication (a * b): 30\n",
            "Division (a / b): 3.3333333333333335\n",
            "Floor Division (a // b): 3\n",
            "Modulo (a % b): 1\n",
            "Exponent (a ** b): 1000\n"
          ]
        }
      ]
    },
    {
      "cell_type": "markdown",
      "source": [
        "# 6. Operator Precedence\n",
        "\n",
        "### Explanation\n",
        "\n",
        "- **Operator precedence** decides the order in which Python evaluates different operations in a single expression.  \n",
        "- The common order (from highest to lowest) is:  \n",
        "  1. Parentheses `()`  \n",
        "  2. Exponentiation `**`  \n",
        "  3. Multiplication `*`, Division `/`, Floor Division `//`, Modulo `%`  \n",
        "  4. Addition `+` and Subtraction `-`\n"
      ],
      "metadata": {
        "id": "ETIDDRvZJU2S"
      }
    },
    {
      "cell_type": "code",
      "source": [
        "# Without parentheses, exponent takes highest precedence, then multiplication, then addition\n",
        "result_1 = 2 + 3 * 2 ** 2\n",
        "# Let's break it down:\n",
        "# 2 ** 2 = 4\n",
        "# 3 * 4 = 12\n",
        "# 2 + 12 = 14\n",
        "print(\"2 + 3 * 2 ** 2 =\", result_1)\n",
        "\n",
        "# With parentheses\n",
        "result_2 = (2 + 3) * 2 ** 2\n",
        "# (2 + 3) = 5\n",
        "# 5 * 2 ** 2\n",
        "# 2 ** 2 = 4\n",
        "# 5 * 4 = 20\n",
        "print(\"(2 + 3) * 2 ** 2 =\", result_2)\n",
        "\n",
        "# Another example with floor division and modulo\n",
        "# Evaluate parentheses first: (10 % 4) = 2, then 5 // 2 = 2, then multiply by 3 = 6\n",
        "result_3 = 3 * (5 // (10 % 4))\n",
        "print(\"3 * (5 // (10 % 4)) =\", result_3)\n"
      ],
      "metadata": {
        "colab": {
          "base_uri": "https://localhost:8080/"
        },
        "id": "_1vEUHlVJVkK",
        "outputId": "1d6945aa-19cb-4fd9-8ccd-c10208ddf6cb"
      },
      "execution_count": null,
      "outputs": [
        {
          "output_type": "stream",
          "name": "stdout",
          "text": [
            "2 + 3 * 2 ** 2 = 14\n",
            "(2 + 3) * 2 ** 2 = 20\n",
            "3 * (5 // (10 % 4)) = 6\n"
          ]
        }
      ]
    },
    {
      "cell_type": "markdown",
      "source": [
        "# 7. Math Functions\n",
        "\n",
        "### Explanation\n",
        "\n",
        "- Python’s built-in `math` module provides many mathematical functions and constants (e.g., `pi`, `sqrt`, `sin`, `cos`, etc.).  \n",
        "- Common built-in functions (without `math` module):  \n",
        "  - `abs(x)`: absolute value of `x`  \n",
        "  - `round(x, n)`: round `x` to `n` decimal places  \n",
        "  - `pow(x, y)`: returns `x` raised to the power `y`  \n",
        "- From the `math` module:  \n",
        "  - `math.sqrt(x)`: square root of `x`  \n",
        "  - `math.floor(x)`: floor of `x`  \n",
        "  - `math.ceil(x)`: ceiling of `x`  \n",
        "  - `math.sin(x)`, `math.cos(x)`, etc.\n"
      ],
      "metadata": {
        "id": "vB_Bno6iJXQo"
      }
    },
    {
      "cell_type": "code",
      "source": [
        "import math\n",
        "\n",
        "x = -4.7\n",
        "y = 2.5\n",
        "\n",
        "print(\"Absolute value of x:\", abs(x))\n",
        "print(\"x to the power of 3:\", pow(10, 3))\n",
        "print(\"Square root of 25:\", math.sqrt(25))\n",
        "print(\"Floor of y:\", math.floor(y))\n",
        "print(\"Ceiling of y:\", math.ceil(y))\n",
        "print(\"Round 3.14159 to 2 decimal places:\", round(3.14159, 2))\n",
        "\n",
        "# Using math constants\n",
        "print(\"Value of Pi:\", math.pi)\n"
      ],
      "metadata": {
        "colab": {
          "base_uri": "https://localhost:8080/"
        },
        "id": "YMivNYapJXwd",
        "outputId": "ade7d9ae-b014-40d6-ee5a-2e02ecbed78c"
      },
      "execution_count": null,
      "outputs": [
        {
          "output_type": "stream",
          "name": "stdout",
          "text": [
            "Absolute value of x: 4.7\n",
            "x to the power of 3: 1000\n",
            "Square root of 25: 5.0\n",
            "Floor of y: 2\n",
            "Ceiling of y: 3\n",
            "Round 3.14159 to 2 decimal places: 3.14\n",
            "Value of Pi: 3.141592653589793\n"
          ]
        }
      ]
    },
    {
      "cell_type": "code",
      "source": [
        "import math\n",
        "print(math.ceil(3.1))\n",
        "print(math.floor(3.1))\n",
        "print(abs(-3.8))\n",
        "print(round(3.5678,2))\n",
        "print(round(3.5,0))"
      ],
      "metadata": {
        "colab": {
          "base_uri": "https://localhost:8080/"
        },
        "id": "kWCEv83QKSvk",
        "outputId": "21ae44ca-802d-4f9e-97c3-bc3cf49917ee"
      },
      "execution_count": null,
      "outputs": [
        {
          "output_type": "stream",
          "name": "stdout",
          "text": [
            "4\n",
            "3\n",
            "3.8\n",
            "3.57\n",
            "4.0\n"
          ]
        }
      ]
    }
  ]
}