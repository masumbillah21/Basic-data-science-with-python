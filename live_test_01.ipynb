{
  "nbformat": 4,
  "nbformat_minor": 0,
  "metadata": {
    "colab": {
      "provenance": [],
      "authorship_tag": "ABX9TyMQQI0Cn/FoGmtGdDO0Kyb4",
      "include_colab_link": true
    },
    "kernelspec": {
      "name": "python3",
      "display_name": "Python 3"
    },
    "language_info": {
      "name": "python"
    }
  },
  "cells": [
    {
      "cell_type": "markdown",
      "metadata": {
        "id": "view-in-github",
        "colab_type": "text"
      },
      "source": [
        "<a href=\"https://colab.research.google.com/github/masumbillah21/Basic-data-science-with-python/blob/main/live_test_01.ipynb\" target=\"_parent\"><img src=\"https://colab.research.google.com/assets/colab-badge.svg\" alt=\"Open In Colab\"/></a>"
      ]
    },
    {
      "cell_type": "code",
      "execution_count": 35,
      "metadata": {
        "colab": {
          "base_uri": "https://localhost:8080/"
        },
        "id": "L6XCDX4nJfFZ",
        "outputId": "1cc245f9-1498-4455-f156-b7d761f9c18a"
      },
      "outputs": [
        {
          "output_type": "stream",
          "name": "stdout",
          "text": [
            "Enter the score: 101\n",
            "Invalid\n"
          ]
        }
      ],
      "source": [
        "user_score = int(input(\"Enter the score: \"))\n",
        "\n",
        "if(user_score > 100 or user_score < 0):\n",
        "  print(\"Invalid\")\n",
        "elif user_score >= 90:\n",
        "    print(\"A\")\n",
        "elif user_score >= 80:\n",
        "    print(\"B\")\n",
        "elif user_score >= 70:\n",
        "    print(\"C\")\n",
        "elif user_score >= 60:\n",
        "    print(\"D\")\n",
        "elif user_score >= 50:\n",
        "    print(\"E\")\n",
        "elif user_score >= 40:\n",
        "    print(\"E-\")\n",
        "else:\n",
        "    print(\"F\")"
      ]
    }
  ]
}