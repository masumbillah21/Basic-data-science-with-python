{
  "nbformat": 4,
  "nbformat_minor": 0,
  "metadata": {
    "colab": {
      "provenance": [],
      "include_colab_link": true
    },
    "kernelspec": {
      "name": "python3",
      "display_name": "Python 3"
    },
    "language_info": {
      "name": "python"
    }
  },
  "cells": [
    {
      "cell_type": "markdown",
      "metadata": {
        "id": "view-in-github",
        "colab_type": "text"
      },
      "source": [
        "<a href=\"https://colab.research.google.com/github/masumbillah21/Basic-data-science-with-python/blob/main/Basics_of_python.ipynb\" target=\"_parent\"><img src=\"https://colab.research.google.com/assets/colab-badge.svg\" alt=\"Open In Colab\"/></a>"
      ]
    },
    {
      "cell_type": "markdown",
      "source": [
        "# Getting Started with Python Basics in Colab\n",
        "\n",
        "# ----------------------------------------------------\n",
        "# 1. Variables and Data Types\n",
        "# ----------------------------------------------------\n",
        "# In Python, you don't need to explicitly declare the type of a variable.\n",
        "# The type is determined automatically based on the value you assign."
      ],
      "metadata": {
        "id": "OKMhldDyeHmv"
      }
    },
    {
      "cell_type": "code",
      "execution_count": null,
      "metadata": {
        "colab": {
          "base_uri": "https://localhost:8080/"
        },
        "id": "GScSgykFcy6p",
        "outputId": "914d97f4-a6f9-4e56-eb61-cbd240ca8512"
      },
      "outputs": [
        {
          "output_type": "stream",
          "name": "stdout",
          "text": [
            "----- Variables and Data Types -----\n",
            "Integer Variable: 42\n",
            "Float Variable: 3.1415\n",
            "String Variable: Hello, Python\n",
            "Boolean Variable: True\n",
            "[1, 'new value', 3.0, True]\n",
            "(1, 'two', 3.0)\n",
            "0\n",
            "1\n",
            "2\n",
            "3\n",
            "4\n",
            "{1, 2, 3}\n",
            "frozenset({1, 2, 3})\n",
            "{'name': 'Alice', 'age': 31, 'city': 'New York'}\n",
            "x has no value\n",
            "<class 'int'>\n"
          ]
        }
      ],
      "source": [
        "# Examples of different data types:\n",
        "integer_var = 42              # Integer\n",
        "float_var   = 3.1415          # Float\n",
        "string_var  = \"Hello, Python\" # String\n",
        "boolean_var = True            # Boolean\n",
        "\n",
        "print(\"----- Variables and Data Types -----\")\n",
        "print(\"Integer Variable:\", integer_var)\n",
        "print(\"Float Variable:\", float_var)\n",
        "print(\"String Variable:\", string_var)\n",
        "print(\"Boolean Variable:\", boolean_var)\n",
        "\n",
        "greeting = \"Hello\"\n",
        "greeting = greeting + \" World\"  # creates a new string \"Hello World\"\n",
        "\n",
        "my_list = [1, \"two\", 3.0, True]\n",
        "my_list[1] = \"new value\"  # Lists are mutable\n",
        "print(my_list)\n",
        "\n",
        "my_tuple = (1, \"two\", 3.0)\n",
        "# my_tuple[1] = \"new value\"  # This would raise an error because tuples are immutable\n",
        "print(my_tuple)\n",
        "\n",
        "numbers = range(5)  # Creates a sequence [0, 1, 2, 3, 4]\n",
        "for i in numbers:\n",
        "    print(i)\n",
        "\n",
        "my_set = {1, 2, 3, 2, 1}\n",
        "print(my_set)  # Output: {1, 2, 3}\n",
        "\n",
        "my_frozenset = frozenset([1, 2, 3])\n",
        "# my_frozenset.add(4)  # Raises an error because it's immutable\n",
        "print(my_frozenset)\n",
        "\n",
        "person = {\n",
        "    \"name\": \"Alice\",\n",
        "    \"age\": 30,\n",
        "    \"city\": \"New York\"\n",
        "}\n",
        "person[\"age\"] = 31  # update value\n",
        "print(person)\n",
        "\n",
        "x = None\n",
        "if x is None:\n",
        "    print(\"x has no value\")\n",
        "\n",
        "\n",
        "x = 10\n",
        "print(type(x))  # <class 'int'>\n",
        "\n",
        "\n",
        "# Convert a float to an int\n",
        "pi = 3.14\n",
        "pi_int = int(pi)  # 3\n",
        "\n",
        "# Convert an int to a string\n",
        "num_str = str(10)  # \"10\"\n",
        "\n",
        "# Convert a list to a set\n",
        "my_list = [1, 2, 3, 2]\n",
        "my_set = set(my_list)  # {1, 2, 3}\n"
      ]
    },
    {
      "cell_type": "markdown",
      "source": [
        "# ----------------------------------------------------\n",
        "# 2. Dynamic Typing in Python\n",
        "# ----------------------------------------------------\n",
        "# Python is dynamically typed. This means that a variable can be reassigned\n",
        "# to a value of a different data type without any error."
      ],
      "metadata": {
        "id": "w_HZp4koeVpr"
      }
    },
    {
      "cell_type": "code",
      "source": [
        "dynamic_var = 100\n",
        "print(\"\\nBefore reassignment:\")\n",
        "print(\"dynamic_var =\", dynamic_var, \"| Type:\", type(dynamic_var))\n",
        "\n",
        "# Reassign the same variable to a string\n",
        "dynamic_var = \"Now I'm a string!\"\n",
        "print(\"\\nAfter reassignment:\")\n",
        "print(\"dynamic_var =\", dynamic_var, \"| Type:\", type(dynamic_var))"
      ],
      "metadata": {
        "colab": {
          "base_uri": "https://localhost:8080/"
        },
        "id": "LYkVJakVeNrD",
        "outputId": "2bea225d-87f9-4422-896d-a55136f7fabc"
      },
      "execution_count": null,
      "outputs": [
        {
          "output_type": "stream",
          "name": "stdout",
          "text": [
            "\n",
            "Before reassignment:\n",
            "dynamic_var = 100 | Type: <class 'int'>\n",
            "\n",
            "After reassignment:\n",
            "dynamic_var = Now I'm a string! | Type: <class 'str'>\n"
          ]
        }
      ]
    },
    {
      "cell_type": "markdown",
      "source": [
        "# ----------------------------------------------------\n",
        "# 3. If Statements\n",
        "# ----------------------------------------------------\n",
        "# Use if, elif, and else to control the flow of your program based on conditions."
      ],
      "metadata": {
        "id": "BU2quUE3ekRy"
      }
    },
    {
      "cell_type": "code",
      "source": [
        "number = 25\n",
        "\n",
        "print(\"\\n----- If Statements -----\")\n",
        "if number > 50:\n",
        "    print(\"The number is greater than 50.\")\n",
        "elif number == 50:\n",
        "    print(\"The number is exactly 50.\")\n",
        "else:\n",
        "    print(\"The number is less than 50.\")"
      ],
      "metadata": {
        "colab": {
          "base_uri": "https://localhost:8080/"
        },
        "id": "aINNHa-IeZOL",
        "outputId": "be8104d1-2a08-47a2-f309-1324ff8bfef9"
      },
      "execution_count": null,
      "outputs": [
        {
          "output_type": "stream",
          "name": "stdout",
          "text": [
            "\n",
            "----- If Statements -----\n",
            "The number is less than 50.\n"
          ]
        }
      ]
    },
    {
      "cell_type": "markdown",
      "source": [
        "# ----------------------------------------------------\n",
        "# 4. Logical Operators\n",
        "# ----------------------------------------------------\n",
        "# Python supports logical operators such as:\n",
        "# - and: Returns True if both conditions are true.\n",
        "# - or:  Returns True if at least one condition is true.\n",
        "# - not: Inverts the boolean value."
      ],
      "metadata": {
        "id": "ak5GiKTSevTW"
      }
    },
    {
      "cell_type": "code",
      "source": [
        "a = 10\n",
        "b = 20\n",
        "c = 30\n",
        "\n",
        "print(\"\\n----- Logical Operators -----\")\n",
        "# Using 'and': Both conditions must be True.\n",
        "if a < b and b < c:\n",
        "    print(\"Both conditions are true: a < b and b < c.\")\n",
        "\n",
        "# Using 'or': At least one condition must be True.\n",
        "if a > b or b < c:\n",
        "    print(\"At least one condition is true: either a > b or b < c.\")\n",
        "\n",
        "# Using 'not': Inverts the condition.\n",
        "if not (a == c):\n",
        "    print(\"Using 'not': a is not equal to c.\")"
      ],
      "metadata": {
        "colab": {
          "base_uri": "https://localhost:8080/"
        },
        "id": "iczr7ko2eog1",
        "outputId": "675c69a8-4a94-436b-9912-49df77425f95"
      },
      "execution_count": null,
      "outputs": [
        {
          "output_type": "stream",
          "name": "stdout",
          "text": [
            "\n",
            "----- Logical Operators -----\n",
            "Both conditions are true: a < b and b < c.\n",
            "At least one condition is true: either a > b or b < c.\n",
            "Using 'not': a is not equal to c.\n"
          ]
        }
      ]
    },
    {
      "cell_type": "markdown",
      "source": [
        "# ----------------------------------------------------\n",
        "# 5. Comparison/Relational/Conditional Operators\n",
        "# ----------------------------------------------------\n",
        "# Common comparison operators include:\n",
        "# == (equal), != (not equal), <, >, <=, >="
      ],
      "metadata": {
        "id": "NTCwJt5-e-_p"
      }
    },
    {
      "cell_type": "code",
      "source": [
        "x = 15\n",
        "y = 20\n",
        "\n",
        "print(\"\\n----- Comparison Operators -----\")\n",
        "print(\"x == y:\", x == y)   # Checks if x is equal to y\n",
        "print(\"x != y:\", x != y)   # Checks if x is not equal to y\n",
        "print(\"x < y :\", x < y)    # Checks if x is less than y\n",
        "print(\"x > y :\", x > y)    # Checks if x is greater than y\n",
        "print(\"x <= y:\", x <= y)   # Checks if x is less than or equal to y\n",
        "print(\"x >= y:\", x >= y)   # Checks if x is greater than or equal to y\n",
        "\n",
        "# Exploring Unary Operators in Python\n",
        "\n",
        "print(\"----- Unary Operators in Python -----\\n\")\n",
        "\n",
        "# Example value\n",
        "a = 10\n",
        "print(\"Initial value, a =\", a)\n",
        "\n",
        "# 1. Unary Plus (+)\n",
        "# Returns the value as is.\n",
        "plus_a = +a\n",
        "print(\"\\nUnary Plus of a (+a):\", plus_a)\n",
        "\n",
        "# 2. Unary Minus (-)\n",
        "# Negates the value.\n",
        "minus_a = -a\n",
        "print(\"Unary Minus of a (-a):\", minus_a)\n",
        "\n",
        "# 3. Bitwise NOT (~)\n",
        "# Flips all bits of the number. In Python, ~a is equivalent to -(a+1).\n",
        "bitwise_not_a = ~a\n",
        "print(\"Bitwise NOT of a (~a):\", bitwise_not_a)\n",
        "\n",
        "# 4. Logical NOT (not)\n",
        "# Inverts a Boolean value.\n",
        "bool_value = True\n",
        "print(\"\\nOriginal Boolean value:\", bool_value)\n",
        "print(\"Logical NOT of bool_value (not bool_value):\", not bool_value)\n",
        "\n",
        "# Demonstrating logical NOT with another example\n",
        "another_bool = False\n",
        "print(\"Original Boolean value:\", another_bool)\n",
        "print(\"Logical NOT of another_bool (not another_bool):\", not another_bool)\n",
        "\n",
        "# Exploring the Ternary Operator in Python\n",
        "\n",
        "print(\"----- Ternary Operator Example -----\\n\")\n",
        "\n",
        "# Example 1: Determining if a number is even or odd.\n",
        "number = 7\n",
        "result = \"Even\" if number % 2 == 0 else \"Odd\"\n",
        "print(f\"The number {number} is {result}.\")\n",
        "\n",
        "# Example 2: Choosing a greeting based on the time of day.\n",
        "# Let's assume it's morning if hour < 12, otherwise it's afternoon.\n",
        "hour = 10\n",
        "greeting = \"Good morning!\" if hour < 12 else \"Good afternoon!\"\n",
        "print(f\"At hour {hour}, the greeting is: {greeting}\")\n",
        "\n",
        "# Example 3: A more complex condition.\n",
        "# Determine the status of a student based on their score.\n",
        "score = 85\n",
        "status = \"Passed\" if score >= 60 else \"Failed\"\n",
        "print(f\"With a score of {score}, the student has: {status}\")\n",
        "\n",
        "# Example 4: Nesting ternary operators (use with caution for readability).\n",
        "# This example assigns a letter grade based on the score.\n",
        "score = 92\n",
        "grade = \"A\" if score >= 90 else \"B\" if score >= 80 else \"C\" if score >= 70 else \"D\" if score >= 60 else \"F\"\n",
        "print(f\"Score: {score} results in grade: {grade}\")\n"
      ],
      "metadata": {
        "colab": {
          "base_uri": "https://localhost:8080/"
        },
        "id": "NYiO5NNneywu",
        "outputId": "c061bea0-d3a6-40ec-8ecb-e54e0e645b2d"
      },
      "execution_count": null,
      "outputs": [
        {
          "output_type": "stream",
          "name": "stdout",
          "text": [
            "\n",
            "----- Comparison Operators -----\n",
            "x == y: False\n",
            "x != y: True\n",
            "x < y : True\n",
            "x > y : False\n",
            "x <= y: True\n",
            "x >= y: False\n",
            "----- Unary Operators in Python -----\n",
            "\n",
            "Initial value, a = 10\n",
            "\n",
            "Unary Plus of a (+a): 10\n",
            "Unary Minus of a (-a): -10\n",
            "Bitwise NOT of a (~a): -11\n",
            "\n",
            "Original Boolean value: True\n",
            "Logical NOT of bool_value (not bool_value): False\n",
            "Original Boolean value: False\n",
            "Logical NOT of another_bool (not another_bool): True\n",
            "----- Ternary Operator Example -----\n",
            "\n",
            "The number 7 is Odd.\n",
            "At hour 10, the greeting is: Good morning!\n",
            "With a score of 85, the student has: Passed\n",
            "Score: 92 results in grade: A\n"
          ]
        }
      ]
    },
    {
      "cell_type": "code",
      "source": [],
      "metadata": {
        "id": "5EgUekTUfG6w"
      },
      "execution_count": null,
      "outputs": []
    }
  ]
}